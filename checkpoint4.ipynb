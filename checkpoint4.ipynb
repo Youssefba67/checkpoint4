{
 "cells": [
  {
   "cell_type": "code",
   "execution_count": 92,
   "id": "be82f204",
   "metadata": {},
   "outputs": [
    {
     "name": "stdout",
     "output_type": "stream",
     "text": [
      "1\n",
      "2\n",
      "3\n",
      "3 highest\n"
     ]
    }
   ],
   "source": [
    "a=int(input())\n",
    "b=int(input())\n",
    "c=int(input())\n",
    "\n",
    "if (a-b)>0 and(a-c)>0 : \n",
    "    print(a,\"highest\")\n",
    "elif (b-a)>0 and (b-c)>0:\n",
    "    print(b,\"highest\")\n",
    "else : \n",
    "    print(c,\"highest\")"
   ]
  },
  {
   "cell_type": "code",
   "execution_count": 93,
   "id": "34a62a84",
   "metadata": {},
   "outputs": [
    {
     "name": "stdout",
     "output_type": "stream",
     "text": [
      "500\n",
      "20\n",
      "520 480\n"
     ]
    }
   ],
   "source": [
    "a= int(input())\n",
    "b=int(input())\n",
    "sum=lambda a,b : a+b\n",
    "sub=lambda a,b : a-b\n",
    "print (sum(a,b) , sub(a,b))"
   ]
  },
  {
   "cell_type": "code",
   "execution_count": 100,
   "id": "36e143c1",
   "metadata": {
    "scrolled": true
   },
   "outputs": [
    {
     "name": "stdout",
     "output_type": "stream",
     "text": [
      "357\n",
      "142000\n"
     ]
    }
   ],
   "source": [
    "mylist1=[24,284,28,10,300,50,5]\n",
    "mylist2=[24,284,28,10,300,50,5]\n",
    "sum1=lambda mylist1 : 24+28+300+5\n",
    "print(sum1(mylist1))\n",
    "mul1=lambda mylist2 : 284*10*50\n",
    "print(mul1(mylist2))"
   ]
  },
  {
   "cell_type": "code",
   "execution_count": 6,
   "id": "6752aaa1",
   "metadata": {},
   "outputs": [
    {
     "name": "stdout",
     "output_type": "stream",
     "text": [
      "yellow-green-red-black-apple\n",
      "apple-black-green-red-yellow\n"
     ]
    }
   ],
   "source": [
    "items=[n for n in input().split('-')]\n",
    "items.sort()\n",
    "print('-'.join(items))"
   ]
  },
  {
   "cell_type": "code",
   "execution_count": 12,
   "id": "c8b9212c",
   "metadata": {},
   "outputs": [
    {
     "name": "stdout",
     "output_type": "stream",
     "text": [
      "Provide D: 100,150,180\n",
      "[18, 22, 24]\n"
     ]
    }
   ],
   "source": [
    "import math\n",
    "\n",
    "numbers = input(\"Provide D: \")\n",
    "numbers = numbers.split(',')\n",
    "\n",
    "result_list = []\n",
    "for D in numbers:\n",
    "    Q = round(math.sqrt(2 * 50 * int(D) / 30))\n",
    "    result_list.append(Q)\n",
    "\n",
    "print(result_list)"
   ]
  },
  {
   "cell_type": "code",
   "execution_count": null,
   "id": "4f730327",
   "metadata": {},
   "outputs": [],
   "source": []
  }
 ],
 "metadata": {
  "kernelspec": {
   "display_name": "Python 3 (ipykernel)",
   "language": "python",
   "name": "python3"
  },
  "language_info": {
   "codemirror_mode": {
    "name": "ipython",
    "version": 3
   },
   "file_extension": ".py",
   "mimetype": "text/x-python",
   "name": "python",
   "nbconvert_exporter": "python",
   "pygments_lexer": "ipython3",
   "version": "3.9.7"
  }
 },
 "nbformat": 4,
 "nbformat_minor": 5
}
